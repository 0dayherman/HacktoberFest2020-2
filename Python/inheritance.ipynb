{
 "cells": [
  {
   "cell_type": "code",
   "execution_count": 1,
   "metadata": {
    "colab": {
     "base_uri": "https://localhost:8080/",
     "height": 87
    },
    "colab_type": "code",
    "id": "6rJY83m15Q-l",
    "outputId": "190d6ade-b773-4768-a6a4-fcad96f42da4"
   },
   "outputs": [
    {
     "name": "stdout",
     "output_type": "stream",
     "text": [
      "ram\n",
      "26\n",
      "5.6\n",
      "10\n"
     ]
    }
   ],
   "source": [
    "class player:\n",
    "    def __init__(self, name, age):\n",
    "        self.name=name\n",
    "        self.age=age\n",
    "        \n",
    "class batsman(player):\n",
    "    def __init__(self,name,age,run,ball,rrbat):\n",
    "        player.__init__(self,name,age)\n",
    "        self.run=run\n",
    "        self.ball=ball\n",
    "        self.rrbat=rrbat\n",
    "class bowler(player):\n",
    "    def __init__(self,name,age,over,wicket,rrball,run):\n",
    "        player.__init__(self,name,age)\n",
    "        self.over=over\n",
    "        self.wicket=wicket\n",
    "        self.rrball=rrball\n",
    "        self.run=run\n",
    "class allrounder(batsman,bowler):\n",
    "      def __init__(self,name,age,run,ball,rrbat,over,wicket,rrball):\n",
    "          batsman.__init__(self,name,age,run,ball,rrbat)\n",
    "          bowler.__init__(self,name,age,over,wicket,rrball,run)\n",
    "\n",
    "aa=allrounder('ram',26,123,100,123.00,10,3,5.6)\n",
    "print(aa.name)\n",
    "print(aa.age)\n",
    "print(aa.rrball)\n",
    "print(aa.over)\n",
    "    "
   ]
  },
  {
   "cell_type": "code",
   "execution_count": 0,
   "metadata": {
    "colab": {},
    "colab_type": "code",
    "id": "86sCBhVQ8khv"
   },
   "outputs": [],
   "source": []
  }
 ],
 "metadata": {
  "colab": {
   "collapsed_sections": [],
   "name": "Untitled3.ipynb",
   "provenance": [],
   "version": "0.3.2"
  },
  "kernelspec": {
   "display_name": "Python 3",
   "language": "python",
   "name": "python3"
  },
  "language_info": {
   "codemirror_mode": {
    "name": "ipython",
    "version": 3
   },
   "file_extension": ".py",
   "mimetype": "text/x-python",
   "name": "python",
   "nbconvert_exporter": "python",
   "pygments_lexer": "ipython3",
   "version": "3.6.5"
  }
 },
 "nbformat": 4,
 "nbformat_minor": 1
}
